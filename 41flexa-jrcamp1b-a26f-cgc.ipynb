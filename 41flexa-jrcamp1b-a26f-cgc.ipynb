{
 "cells": [
  {
   "cell_type": "code",
   "execution_count": 1,
   "metadata": {},
   "outputs": [],
   "source": [
    "import numpy as np\n",
    "import csv\n",
    "import os\n",
    "import matplotlib.pyplot as plt\n",
    "from skimage import io\n",
    "from scipy import misc\n",
    "from skimage.transform import rescale, resize, downscale_local_mean\n",
    "import  scipy\n",
    "import  scipy.cluster.hierarchy as sch\n",
    "from scipy.cluster.hierarchy import dendrogram\n",
    "from os import listdir\n",
    "from os.path import isdir,isfile,join\n",
    "import matplotlib\n",
    "\n",
    "from scipy import sparse\n",
    "from scipy.sparse.linalg import spsolve\n",
    "from scipy.signal import find_peaks"
   ]
  },
  {
   "cell_type": "code",
   "execution_count": 2,
   "metadata": {},
   "outputs": [],
   "source": [
    "#return baseline. Method \"Asymmetric Least Squares Smoothing\" by P. Eilers and H. Boelens in 2005\n",
    "def baseline_als(y, lam, p, niter=10):\n",
    "    L = len(y)\n",
    "    D = sparse.diags([1,-2,1],[0,-1,-2], shape=(L,L-2))\n",
    "    w = np.ones(L)\n",
    "    for i in range(niter):\n",
    "        W = sparse.spdiags(w, 0, L, L)\n",
    "        Z = W + lam * D.dot(D.transpose())\n",
    "        z = spsolve(Z, w*y)\n",
    "        w = p * (y > z) + (1-p) * (y < z)\n",
    "    return(z)\n",
    "#return an array divided by the maximum elements in the given array\n",
    "def normalized(y, max_y = 1):\n",
    "    z = y/np.amax(y)\n",
    "    return(z)"
   ]
  },
  {
   "cell_type": "code",
   "execution_count": 3,
   "metadata": {},
   "outputs": [],
   "source": [
    "folder = '/media/yingtao/08948FA2948F90BC/2021-imaging/41f64428a26fcgc/'"
   ]
  },
  {
   "cell_type": "code",
   "execution_count": 4,
   "metadata": {},
   "outputs": [
    {
     "name": "stdout",
     "output_type": "stream",
     "text": [
      "/media/yingtao/08948FA2948F90BC/2021-imaging/41f64428a26fcgc\n"
     ]
    }
   ],
   "source": [
    "cd $folder"
   ]
  },
  {
   "cell_type": "code",
   "execution_count": 5,
   "metadata": {},
   "outputs": [],
   "source": [
    "fluo_data = ['0430-5-exposure150ms-20x-power-5-20-stained-1-2contibousFW/Results_121_a31c_654_boutons_a26f_bouton.csv',\n",
    "             '0430-5-exposure150ms-20x-power-5-20-stained-1-2contibousFW/Results_122_a31c_654_boutons_a26f_bouton.csv',\n",
    "             '0430-7-exposure150ms-20x-power-5-20-stained2/Results-a31c-6543-a26f-a6.csv',\n",
    "             '0430-9-exposure150ms-20x-power-5-20-stained3/Results-a31c-7654-a26f-a6.csv',\n",
    "             '0430-10-exposure150ms-20x-power-2-20-stained4/Results-a31c-65432-a26f-a6.csv',\n",
    "             '0430-12-exposure150ms-20x-power-2-20-stained5/Results-a31c-654-a26f-a6.csv',\n",
    "             '0430-14-exposure150ms-20x-power2-20-stained6/Results-a31c-5432-a26f-a6.csv',\n",
    "            ]"
   ]
  },
  {
   "cell_type": "code",
   "execution_count": 6,
   "metadata": {},
   "outputs": [],
   "source": [
    "%matplotlib qt"
   ]
  },
  {
   "cell_type": "code",
   "execution_count": 7,
   "metadata": {},
   "outputs": [],
   "source": [
    "font = {'family' : 'normal',\n",
    "        'weight' : 'bold',\n",
    "        'size'   : 18}\n",
    "\n",
    "matplotlib.rc('font', **font)"
   ]
  },
  {
   "cell_type": "code",
   "execution_count": 8,
   "metadata": {},
   "outputs": [],
   "source": [
    "def plot(fluo_data, segment_n, fig_n):\n",
    "    segments= []\n",
    "    with open(fluo_data) as file:\n",
    "        lines = csv.reader(file)\n",
    "        for i in lines:\n",
    "            segments.append(i[1:])\n",
    "    segments = segments[1:]\n",
    "    segments = np.array(segments).astype(float)\n",
    "    #segments = segments[0:1500,:]\n",
    "    segn = segments.shape[1]\n",
    "    segments_normed = np.empty([segn,segments.shape[0]])\n",
    "    for i in range(segn): \n",
    "        baseline = baseline_als(segments[:,i], 10e6, 0.001)\n",
    "        segments_normed[i] = normalized((segments[:,i]-baseline) / baseline)\n",
    "    peaks_axon, _ = find_peaks(segments_normed[-1], distance=50, height=(0.2,1))\n",
    "    slice_i = 0\n",
    "    slice_e = 1500\n",
    "    fig = plt.figure(fig_n,figsize=(20,10))\n",
    "    gs = fig.add_gridspec(2, 1, hspace=0, wspace=0)\n",
    "    (ax1), (ax2) = gs.subplots(sharex='col')\n",
    "    ax1.plot(segments_normed[-1,:], label='A26f_a6_bouton')\n",
    "    ax1.plot(peaks_axon, segments_normed[0,peaks_axon], \"x\")\n",
    "    ax1.set_xlim(slice_i,slice_e)\n",
    "    #plt.xlabel('frame')\n",
    "    #ax1.set_ylabel('Fluo_cali')\n",
    "    ax1.legend(loc='best')\n",
    "    for i in range(len(segment_n)):\n",
    "        ax2.plot(segments_normed[i,], label='A31c_a'+str(segment_n[i])+'_neurites')\n",
    "    ax2.plot(peaks_axon,[1,] * len(peaks_axon), \"x\")\n",
    "    ax2.set_xlim(slice_i,slice_e)\n",
    "    #plt.xlabel('frame')\n",
    "    #plt.ylabel('Fluo')\n",
    "    ax2.legend(loc='upper right')\n",
    "    plt.show()"
   ]
  },
  {
   "cell_type": "code",
   "execution_count": 9,
   "metadata": {},
   "outputs": [
    {
     "name": "stderr",
     "output_type": "stream",
     "text": [
      "findfont: Font family ['normal'] not found. Falling back to DejaVu Sans.\n"
     ]
    }
   ],
   "source": [
    "num = 0\n",
    "for data_path, segment_n in zip(fluo_data,[[6,5,4],[6,5,4],[6,5,4,3],[7,6,5,4],[6,5,4,3,2],[6,5,4],[5,4,3,2]]):\n",
    "    num += 1\n",
    "    if num == 7:\n",
    "        plot(data_path,segment_n, num)"
   ]
  },
  {
   "cell_type": "code",
   "execution_count": null,
   "metadata": {},
   "outputs": [],
   "source": []
  }
 ],
 "metadata": {
  "kernelspec": {
   "display_name": "Python 3",
   "language": "python",
   "name": "python3"
  },
  "language_info": {
   "codemirror_mode": {
    "name": "ipython",
    "version": 3
   },
   "file_extension": ".py",
   "mimetype": "text/x-python",
   "name": "python",
   "nbconvert_exporter": "python",
   "pygments_lexer": "ipython3",
   "version": "3.7.1"
  }
 },
 "nbformat": 4,
 "nbformat_minor": 2
}
